{
  "cells": [
    {
      "cell_type": "markdown",
      "id": "dc69b9f9-6060-4452-94ca-40831b79f84e",
      "metadata": {
        "id": "dc69b9f9-6060-4452-94ca-40831b79f84e"
      },
      "source": [
        "# 데이터 분할\n",
        "\n",
        "1. 학습파트 <br>\n",
        "학습 : 2017 2018 2019\n",
        "<br>라벨 : 2020\n",
        "\n",
        "2. 테스트파트 <br>\n",
        "예측 : 2018 2019 2020\n",
        "<br>검증 : 2021"
      ]
    },
    {
      "cell_type": "code",
      "execution_count": null,
      "id": "d0236d9d-d7b2-4ff1-9be1-ade074599f62",
      "metadata": {
        "colab": {
          "base_uri": "https://localhost:8080/"
        },
        "id": "d0236d9d-d7b2-4ff1-9be1-ade074599f62",
        "outputId": "906dfdb6-6bf4-40ba-fc4e-f30374df0fd3"
      },
      "outputs": [
        {
          "output_type": "stream",
          "name": "stdout",
          "text": [
            "Current cuda device  0\n",
            "Tesla K80\n"
          ]
        }
      ],
      "source": [
        "import pandas as pd\n",
        "import numpy as np\n",
        "import torch\n",
        "import torch.nn as nn\n",
        "import torch.nn.functional as F\n",
        "import torch.optim as optim\n",
        "from torch.utils.data import DataLoader\n",
        "from torch.autograd import Variable\n",
        "from tqdm import tqdm\n",
        "\n",
        "print ('Current cuda device ', torch.cuda.current_device())\n",
        "device = torch.device('cuda' if torch.cuda.is_available() else 'cpu')\n",
        "print(torch.cuda.get_device_name(device))"
      ]
    },
    {
      "cell_type": "code",
      "execution_count": null,
      "id": "cbffa9e2-2470-47ab-94a2-94f952855e46",
      "metadata": {
        "id": "cbffa9e2-2470-47ab-94a2-94f952855e46"
      },
      "outputs": [],
      "source": [
        "corpus_num = 22685 # Dict에 속한 단어 개수\n",
        "topic_num = 50 # Dtm에서 잡은 topic의 개수\n",
        "train_input = np.empty((0, corpus_num))\n",
        "train_label = np.empty((0, corpus_num))\n",
        "test_input = np.empty((0, corpus_num))\n",
        "test_label = np.empty((0, corpus_num))\n",
        "predict_input = np.empty((0, corpus_num))\n",
        "\n",
        "for index in range(topic_num):\n",
        "    dtm_result = pd.read_excel(\"topic\" + str(index+1) + \"_dtm.xlsx\") # 각 토픽별로 엑세 파일 불러옴\n",
        "\n",
        "    # 학습파트 train, label 생성\n",
        "    for i in range(2017, 2020):\n",
        "        train_input = np.append(train_input, np.reshape((dtm_result[i] * 1500).to_numpy(), (1, corpus_num)), axis = 0)\n",
        "    train_label = np.append(train_label, np.reshape((dtm_result[2020] * 1500).to_numpy(), (1, corpus_num)), axis = 0)\n",
        "    \n",
        "    # 검증파트 train, label 생성\n",
        "    for j in range(2018, 2021):\n",
        "        test_input = np.append(test_input, np.reshape((dtm_result[j] * 1500).to_numpy(), (1, corpus_num)), axis = 0)\n",
        "    test_label = np.append(test_label, np.reshape((dtm_result[2021] * 1500).to_numpy(), (1, corpus_num)), axis = 0)\n",
        "\n",
        "    # 예측파트 input 생성\n",
        "    for j in range(2019, 2022):\n",
        "      predict_input = np.append(predict_input, np.reshape((dtm_result[j] * 1500).to_numpy(), (1, corpus_num)), axis = 0)\n",
        "\n",
        "\n",
        "# topic 단위로 찢음\n",
        "train_input = np.reshape(train_input, (topic_num, 3, corpus_num))\n",
        "train_label = np.reshape(train_label, (topic_num, corpus_num))\n",
        "test_input = np.reshape(test_input, (topic_num, 3, corpus_num))\n",
        "test_label = np.reshape(test_label, (topic_num, corpus_num))\n",
        "predict_input = np.reshape(predict_input, (topic_num, 3, corpus_num))\n",
        "\n",
        "# Pytorch tensor로 변환\n",
        "train_input = Variable(torch.Tensor(train_input)).to(device)\n",
        "train_label = Variable(torch.Tensor(train_label)).to(device)\n",
        "test_input = Variable(torch.Tensor(test_input)).to(device)\n",
        "test_label = Variable(torch.Tensor(test_label)).to(device)\n",
        "predict_input = Variable(torch.Tensor(predict_input)).to(device)"
      ]
    },
    {
      "cell_type": "code",
      "execution_count": null,
      "id": "0d497e66-2153-4fbd-9b6c-1e6497850216",
      "metadata": {
        "colab": {
          "base_uri": "https://localhost:8080/"
        },
        "id": "0d497e66-2153-4fbd-9b6c-1e6497850216",
        "outputId": "ad47dfa4-d506-4576-c9a8-88ca1dd09259"
      },
      "outputs": [
        {
          "output_type": "execute_result",
          "data": {
            "text/plain": [
              "(torch.Size([50, 3, 22685]),\n",
              " torch.Size([50, 3, 22685]),\n",
              " torch.Size([50, 22685]),\n",
              " torch.Size([50, 22685]),\n",
              " torch.Size([50, 3, 22685]))"
            ]
          },
          "metadata": {},
          "execution_count": 57
        }
      ],
      "source": [
        "train_input.shape, test_input.shape, train_label.shape, test_label.shape, predict_input.shape"
      ]
    },
    {
      "cell_type": "markdown",
      "source": [
        "# LSTM"
      ],
      "metadata": {
        "id": "83Otf6y9gfwJ"
      },
      "id": "83Otf6y9gfwJ"
    },
    {
      "cell_type": "markdown",
      "source": [
        "## Hyperparameter"
      ],
      "metadata": {
        "id": "af5pcN2diJn-"
      },
      "id": "af5pcN2diJn-"
    },
    {
      "cell_type": "code",
      "execution_count": null,
      "id": "5126cb1b-ade1-49a7-af6e-7374b065ca68",
      "metadata": {
        "id": "5126cb1b-ade1-49a7-af6e-7374b065ca68"
      },
      "outputs": [],
      "source": [
        "seq_length = 3 #3년치가 LSTM으로 들어가는 상황이므로\n",
        "hidden_dim = 3 #number of features in hidden state\n",
        "num_layers = 2 #number of stacked lstm layers\n",
        "num_epochs = 1500 #1500 epochs\n",
        "learning_rate = 0.002 #0.002 lr\n",
        "decay = 0.02\n",
        "input_dim = corpus_num #number of features\n",
        "output_dim = corpus_num"
      ]
    },
    {
      "cell_type": "code",
      "execution_count": null,
      "id": "440e1b47-41f2-46b1-ae50-74ee932ff20e",
      "metadata": {
        "id": "440e1b47-41f2-46b1-ae50-74ee932ff20e"
      },
      "outputs": [],
      "source": [
        "class LSTM(nn.Module):\n",
        "    def __init__(self, input_dim, hidden_dim, output_dim, num_layers, seq_length, batch_size = 50, drop_prob=0.2):\n",
        "        super(LSTM, self).__init__()\n",
        "        self.hidden_dim = hidden_dim\n",
        "        self.num_layers = num_layers\n",
        "        self.seq_length = seq_length\n",
        "        self.batch_size = batch_size \n",
        "        self.lstm = nn.LSTM(input_dim, hidden_dim, num_layers, batch_first=True, dropout=drop_prob, bidirectional=False)\n",
        "        self.fc = nn.Linear(hidden_dim, hidden_dim)\n",
        "        self.fc_out = nn.Linear(hidden_dim, output_dim)\n",
        "        self.relu = nn.LeakyReLU(0.1) # LeakyReLU로 변경\n",
        "        self.bn = nn.BatchNorm1d(hidden_dim)\n",
        "        \n",
        "    def forward(self, x):\n",
        "        h0 = Variable(torch.zeros(self.num_layers, self.batch_size, self.hidden_dim)).to(device) \n",
        "        c0 = Variable(torch.zeros(self.num_layers, self.batch_size, self.hidden_dim)).to(device)\n",
        "        x = x.to(device)\n",
        "        out, (h_n,c_n) = self.lstm(x, (h0,c0))\n",
        "        out = out[:, -1, :] # 맨 마지막 추론 결과만 받음\n",
        "        out = self.bn(out)\n",
        "        out = self.fc(out)\n",
        "        out = self.relu(out)\n",
        "        out = self.fc(out)\n",
        "        out = self.relu(out)\n",
        "        out = self.fc_out(out)\n",
        "        return out, h_n"
      ]
    },
    {
      "cell_type": "markdown",
      "source": [
        "## Train"
      ],
      "metadata": {
        "id": "l3SXgh12ieTy"
      },
      "id": "l3SXgh12ieTy"
    },
    {
      "cell_type": "code",
      "execution_count": null,
      "id": "4f5ac369-b99d-4d77-8b67-a30bc7ff333f",
      "metadata": {
        "id": "4f5ac369-b99d-4d77-8b67-a30bc7ff333f"
      },
      "outputs": [],
      "source": [
        "lstm = LSTM(input_dim, hidden_dim, output_dim, num_layers, seq_length).to(device) \n",
        "criterion = nn.MSELoss()  # mean-squared error for regression\n",
        "optimizer = torch.optim.Adam(lstm.parameters(), lr=learning_rate, amsgrad=True)"
      ]
    },
    {
      "cell_type": "code",
      "execution_count": null,
      "id": "2be52f0d-ae49-4c25-9e09-ad8b6a34960e",
      "metadata": {
        "id": "2be52f0d-ae49-4c25-9e09-ad8b6a34960e",
        "outputId": "e1f698ac-162e-4268-cf9a-5cc8df552f1b",
        "colab": {
          "base_uri": "https://localhost:8080/"
        }
      },
      "outputs": [
        {
          "output_type": "stream",
          "name": "stderr",
          "text": [
            "  2%|▏         | 24/1500 [00:00<00:12, 115.71it/s]"
          ]
        },
        {
          "output_type": "stream",
          "name": "stdout",
          "text": [
            "Train loss: 1.93164\n",
            "Val loss: 1.93381\n"
          ]
        },
        {
          "output_type": "stream",
          "name": "stderr",
          "text": [
            "  8%|▊         | 118/1500 [00:01<00:12, 110.05it/s]"
          ]
        },
        {
          "output_type": "stream",
          "name": "stdout",
          "text": [
            "Train loss: 1.77164\n",
            "Val loss: 1.78140\n"
          ]
        },
        {
          "output_type": "stream",
          "name": "stderr",
          "text": [
            " 14%|█▍        | 214/1500 [00:01<00:11, 112.93it/s]"
          ]
        },
        {
          "output_type": "stream",
          "name": "stdout",
          "text": [
            "Train loss: 1.72500\n",
            "Val loss: 1.73498\n"
          ]
        },
        {
          "output_type": "stream",
          "name": "stderr",
          "text": [
            " 21%|██▏       | 322/1500 [00:02<00:10, 111.94it/s]"
          ]
        },
        {
          "output_type": "stream",
          "name": "stdout",
          "text": [
            "Train loss: 1.69590\n",
            "Val loss: 1.70608\n"
          ]
        },
        {
          "output_type": "stream",
          "name": "stderr",
          "text": [
            " 28%|██▊       | 418/1500 [00:03<00:09, 113.04it/s]"
          ]
        },
        {
          "output_type": "stream",
          "name": "stdout",
          "text": [
            "Train loss: 1.66186\n",
            "Val loss: 1.67210\n"
          ]
        },
        {
          "output_type": "stream",
          "name": "stderr",
          "text": [
            " 34%|███▍      | 514/1500 [00:04<00:08, 110.93it/s]"
          ]
        },
        {
          "output_type": "stream",
          "name": "stdout",
          "text": [
            "Train loss: 1.62562\n",
            "Val loss: 1.63465\n"
          ]
        },
        {
          "output_type": "stream",
          "name": "stderr",
          "text": [
            " 41%|████▏     | 622/1500 [00:05<00:07, 112.77it/s]"
          ]
        },
        {
          "output_type": "stream",
          "name": "stdout",
          "text": [
            "Train loss: 1.61136\n",
            "Val loss: 1.62194\n"
          ]
        },
        {
          "output_type": "stream",
          "name": "stderr",
          "text": [
            " 48%|████▊     | 718/1500 [00:06<00:07, 111.59it/s]"
          ]
        },
        {
          "output_type": "stream",
          "name": "stdout",
          "text": [
            "Train loss: 1.60768\n",
            "Val loss: 1.61762\n"
          ]
        },
        {
          "output_type": "stream",
          "name": "stderr",
          "text": [
            " 54%|█████▍    | 814/1500 [00:07<00:06, 110.28it/s]"
          ]
        },
        {
          "output_type": "stream",
          "name": "stdout",
          "text": [
            "Train loss: 1.60737\n",
            "Val loss: 1.61611\n"
          ]
        },
        {
          "output_type": "stream",
          "name": "stderr",
          "text": [
            " 61%|██████▏   | 922/1500 [00:08<00:05, 111.78it/s]"
          ]
        },
        {
          "output_type": "stream",
          "name": "stdout",
          "text": [
            "Train loss: 1.60314\n",
            "Val loss: 1.61348\n"
          ]
        },
        {
          "output_type": "stream",
          "name": "stderr",
          "text": [
            " 68%|██████▊   | 1018/1500 [00:09<00:04, 111.85it/s]"
          ]
        },
        {
          "output_type": "stream",
          "name": "stdout",
          "text": [
            "Train loss: 1.60065\n",
            "Val loss: 1.61013\n"
          ]
        },
        {
          "output_type": "stream",
          "name": "stderr",
          "text": [
            " 74%|███████▍  | 1114/1500 [00:09<00:03, 114.75it/s]"
          ]
        },
        {
          "output_type": "stream",
          "name": "stdout",
          "text": [
            "Train loss: 1.59658\n",
            "Val loss: 1.60874\n"
          ]
        },
        {
          "output_type": "stream",
          "name": "stderr",
          "text": [
            " 81%|████████▏ | 1222/1500 [00:10<00:02, 111.90it/s]"
          ]
        },
        {
          "output_type": "stream",
          "name": "stdout",
          "text": [
            "Train loss: 1.59773\n",
            "Val loss: 1.60572\n"
          ]
        },
        {
          "output_type": "stream",
          "name": "stderr",
          "text": [
            " 88%|████████▊ | 1318/1500 [00:11<00:01, 112.58it/s]"
          ]
        },
        {
          "output_type": "stream",
          "name": "stdout",
          "text": [
            "Train loss: 1.59414\n",
            "Val loss: 1.60414\n"
          ]
        },
        {
          "output_type": "stream",
          "name": "stderr",
          "text": [
            " 94%|█████████▍| 1414/1500 [00:12<00:00, 112.95it/s]"
          ]
        },
        {
          "output_type": "stream",
          "name": "stdout",
          "text": [
            "Train loss: 1.59363\n",
            "Val loss: 1.60419\n"
          ]
        },
        {
          "output_type": "stream",
          "name": "stderr",
          "text": [
            "100%|██████████| 1500/1500 [00:13<00:00, 111.84it/s]"
          ]
        },
        {
          "output_type": "stream",
          "name": "stdout",
          "text": [
            "Fin.\n"
          ]
        },
        {
          "output_type": "stream",
          "name": "stderr",
          "text": [
            "\n"
          ]
        }
      ],
      "source": [
        "train_loss = []\n",
        "val_loss = [] \n",
        "\n",
        "for epoch in tqdm(range(num_epochs)):\n",
        "      lstm.train()\n",
        "      outputs, h_out = lstm(train_input.to(device))\n",
        "      optimizer.zero_grad()\n",
        "      loss = criterion(outputs, train_label.to(device))\n",
        "      train_loss.append(loss.item())\n",
        "      loss.backward()\n",
        "      optimizer.step()\n",
        "      if epoch % 100 == 0:\n",
        "          print(\"Train loss: %1.5f\"%(loss.item()))\n",
        "      \n",
        "      with torch.no_grad():\n",
        "          lstm.eval()\n",
        "          output, h_out = lstm(test_input.to(device))\n",
        "          Loss = criterion(output, test_label.to(device))\n",
        "          predicted = output.cpu()\n",
        "          val_loss.append(Loss.item())\n",
        "          if epoch % 100 == 0:\n",
        "            print(\"Val loss: %1.5f\"%(Loss.item()))\n",
        "print(\"Fin.\")"
      ]
    },
    {
      "cell_type": "code",
      "execution_count": null,
      "id": "a5b5398b-07df-40f6-b291-20c04352ae35",
      "metadata": {
        "id": "a5b5398b-07df-40f6-b291-20c04352ae35",
        "outputId": "1e704ee1-33b1-4abd-fbcc-0419dc62cd5b",
        "colab": {
          "base_uri": "https://localhost:8080/",
          "height": 295
        }
      },
      "outputs": [
        {
          "output_type": "display_data",
          "data": {
            "image/png": "[encoded data removed]",
            "text/plain": [
              "<Figure size 432x288 with 1 Axes>"
            ]
          },
          "metadata": {
            "needs_background": "light"
          }
        }
      ],
      "source": [
        "from matplotlib import pyplot as plt\n",
        "plt.plot(range(len(train_loss)), train_loss, label='Training Loss')\n",
        "plt.plot(range(len(val_loss)), val_loss, label='Test Loss')\n",
        "plt.xlabel('Epoch')\n",
        "plt.ylabel('Loss')\n",
        "plt.legend()\n",
        "plt.title('LSTM - Loss')\n",
        "plt.show()"
      ]
    },
    {
      "cell_type": "code",
      "execution_count": null,
      "id": "cbfe961b-c7fd-497f-b09e-e5df219a2dee",
      "metadata": {
        "id": "cbfe961b-c7fd-497f-b09e-e5df219a2dee",
        "outputId": "5c5af2a6-81df-4ed6-ace6-48c7f1d691f0",
        "colab": {
          "base_uri": "https://localhost:8080/"
        }
      },
      "outputs": [
        {
          "output_type": "stream",
          "name": "stdout",
          "text": [
            "SpearmanrResult(correlation=0.31792789576361696, pvalue=0.0)\n",
            "SpearmanrResult(correlation=0.3215945482246408, pvalue=0.0)\n",
            "SpearmanrResult(correlation=0.2953161855434889, pvalue=0.0)\n",
            "SpearmanrResult(correlation=0.3318199023779409, pvalue=0.0)\n",
            "SpearmanrResult(correlation=0.3238293045401045, pvalue=0.0)\n",
            "SpearmanrResult(correlation=0.20723309539045562, pvalue=1.5854462349694405e-218)\n",
            "SpearmanrResult(correlation=0.3204800045026278, pvalue=0.0)\n",
            "SpearmanrResult(correlation=0.2665877808910823, pvalue=0.0)\n",
            "SpearmanrResult(correlation=0.33963977576539617, pvalue=0.0)\n",
            "SpearmanrResult(correlation=0.3192075945966125, pvalue=0.0)\n",
            "SpearmanrResult(correlation=0.321604664080177, pvalue=0.0)\n",
            "SpearmanrResult(correlation=0.3130237829786317, pvalue=0.0)\n",
            "SpearmanrResult(correlation=0.1939971062053711, pvalue=3.0549011761388174e-191)\n",
            "SpearmanrResult(correlation=0.31826542876400676, pvalue=0.0)\n",
            "SpearmanrResult(correlation=0.29336922842071456, pvalue=0.0)\n",
            "SpearmanrResult(correlation=0.30143344939633393, pvalue=0.0)\n",
            "SpearmanrResult(correlation=0.2813557817135214, pvalue=0.0)\n",
            "SpearmanrResult(correlation=0.3064290526935167, pvalue=0.0)\n",
            "SpearmanrResult(correlation=0.30778036235949147, pvalue=0.0)\n",
            "SpearmanrResult(correlation=0.320339887736563, pvalue=0.0)\n",
            "SpearmanrResult(correlation=0.2206461951425267, pvalue=3.52288148128157e-248)\n",
            "SpearmanrResult(correlation=0.2645743089090347, pvalue=0.0)\n",
            "SpearmanrResult(correlation=0.2216782020698535, pvalue=1.5164127578696394e-250)\n",
            "SpearmanrResult(correlation=0.3460224680537208, pvalue=0.0)\n",
            "SpearmanrResult(correlation=0.21657088574780914, pvalue=5.913045577893571e-239)\n",
            "SpearmanrResult(correlation=0.3087856758609957, pvalue=0.0)\n",
            "SpearmanrResult(correlation=0.33417610517514373, pvalue=0.0)\n",
            "SpearmanrResult(correlation=0.2721405207310262, pvalue=0.0)\n",
            "SpearmanrResult(correlation=0.3347466920697763, pvalue=0.0)\n",
            "SpearmanrResult(correlation=0.24853724677566533, pvalue=0.0)\n",
            "SpearmanrResult(correlation=0.31788769286950513, pvalue=0.0)\n",
            "SpearmanrResult(correlation=0.28671834854778494, pvalue=0.0)\n",
            "SpearmanrResult(correlation=0.18011459081304504, pvalue=1.0653498547149033e-164)\n",
            "SpearmanrResult(correlation=0.2830731456048503, pvalue=0.0)\n",
            "SpearmanrResult(correlation=0.23936893341564974, pvalue=5.187610855594294e-293)\n",
            "SpearmanrResult(correlation=0.31943922037572675, pvalue=0.0)\n",
            "SpearmanrResult(correlation=0.3641020720347241, pvalue=0.0)\n",
            "SpearmanrResult(correlation=0.23033343579588572, pvalue=7.185292404795661e-271)\n",
            "SpearmanrResult(correlation=0.342987340991635, pvalue=0.0)\n",
            "SpearmanrResult(correlation=0.31178162437198703, pvalue=0.0)\n",
            "SpearmanrResult(correlation=0.23538794564973023, pvalue=3.867859421565617e-283)\n",
            "SpearmanrResult(correlation=0.2814011700927009, pvalue=0.0)\n",
            "SpearmanrResult(correlation=0.21617383356598707, pvalue=4.5760851826272327e-238)\n",
            "SpearmanrResult(correlation=0.27459856011097866, pvalue=0.0)\n",
            "SpearmanrResult(correlation=0.28969701094430966, pvalue=0.0)\n",
            "SpearmanrResult(correlation=0.30267715424432245, pvalue=0.0)\n",
            "SpearmanrResult(correlation=0.3179137040396637, pvalue=0.0)\n",
            "SpearmanrResult(correlation=0.32829469177262555, pvalue=0.0)\n",
            "SpearmanrResult(correlation=0.2921461923363474, pvalue=0.0)\n",
            "SpearmanrResult(correlation=0.26891241680943806, pvalue=0.0)\n",
            "------------------------------------------------------------\n",
            "Spearmanr correlation mean value : 0.28904244433733495\n"
          ]
        }
      ],
      "source": [
        "from scipy import stats\n",
        "test_label = test_label.cpu()\n",
        "\n",
        "cor = 0\n",
        "spearman_top = [] # spearman cor 순서대로 저장\n",
        "for index in range(50):\n",
        "  predict = predicted[index]\n",
        "  answer = test_label[index]\n",
        "\n",
        "  result = stats.spearmanr(predict, answer)\n",
        "  cor += result[0]\n",
        "  spearman_top.append((result[0], index))\n",
        "  print(result)\n",
        "\n",
        "spearman_top.sort(reverse = True)\n",
        "\n",
        "print(\"------------------------------------------------------------\")\n",
        "print(\"Spearmanr correlation mean value :\", cor / 50)"
      ]
    },
    {
      "cell_type": "markdown",
      "id": "c8e4eb92-6107-4c71-bb59-0924377efc37",
      "metadata": {
        "id": "c8e4eb92-6107-4c71-bb59-0924377efc37"
      },
      "source": [
        "## 2022 키워드 추출\n",
        "토픽 몇 개만 선정해서,\n",
        "\n",
        "해당 토픽에서 가장 스코어 높은 키워드 상위 10개 정도만 추출 -> 2019, 2020, 2021 input으로 2022예측"
      ]
    },
    {
      "cell_type": "code",
      "execution_count": null,
      "id": "fd9e5854-77eb-4a72-8002-c5a1f2d9d4a7",
      "metadata": {
        "id": "fd9e5854-77eb-4a72-8002-c5a1f2d9d4a7"
      },
      "outputs": [],
      "source": [
        "import copy\n",
        "import random\n",
        "excel_temp = pd.read_excel(\"topic\" + str(1) + \"_dtm.xlsx\", names = ['name', 2017, 2018, 2019, 2020, 2021])\n",
        "keyword = excel_temp['name']\n",
        "\n",
        "lstm.eval()\n",
        "with torch.no_grad():\n",
        "  predict = lstm(predict_input)\n",
        "\n",
        "predict = predict[0].tolist()\n",
        "predict_result = []\n",
        "\n",
        "for i in range(50):\n",
        "  index = spearman_top[i][1]\n",
        "  val = copy.copy(predict[index])\n",
        "  val.sort(reverse = True)\n",
        "  val = val[50:55]\n",
        "  temp = []\n",
        "  for j in range(5):\n",
        "    keyword_index = predict[index].index(val[j])\n",
        "    temp.append(keyword[keyword_index])\n",
        "  predict_result.append(temp)\n",
        "\n",
        "predict_result = list(set([tuple(set(item)) for item in predict_result])) # 중복 제거\n",
        "\n",
        "predict_result = np.array(predict_result)"
      ]
    },
    {
      "cell_type": "code",
      "source": [
        "predict_result"
      ],
      "metadata": {
        "colab": {
          "base_uri": "https://localhost:8080/"
        },
        "id": "QpAQpNQoE-22",
        "outputId": "23debd68-9be9-49df-c6ca-6b67b75cfc9e"
      },
      "id": "QpAQpNQoE-22",
      "execution_count": null,
      "outputs": [
        {
          "output_type": "execute_result",
          "data": {
            "text/plain": [
              "array([['classification', 'representations', 'order', 'expression',\n",
              "        'boundaries'],\n",
              "       ['approaches', 'structure', 'input', 'sequence', 'techniques'],\n",
              "       ['point', 'structure', 'bias', 'architecture', 'frequency'],\n",
              "       ['applications', 'input', 'functions', 'set', 'sequence'],\n",
              "       ['wave', 'Markov', 'degradation', 'Vision', 'representation'],\n",
              "       ['wave', 'GANs', 'work', 'codes', 'degradation'],\n",
              "       ['representations', 'approaches', 'point', 'expression', 'graph'],\n",
              "       ['applications', 'input', 'functions', 'sequence', 'techniques'],\n",
              "       ['number', 'scene', 'structure', 'input', 'techniques'],\n",
              "       ['number', 'scene', 'input', 'functions', 'techniques']],\n",
              "      dtype='<U15')"
            ]
          },
          "metadata": {},
          "execution_count": 104
        }
      ]
    }
  ],
  "metadata": {
    "kernelspec": {
      "display_name": "Python 3 (ipykernel)",
      "language": "python",
      "name": "python3"
    },
    "language_info": {
      "codemirror_mode": {
        "name": "ipython",
        "version": 3
      },
      "file_extension": ".py",
      "mimetype": "text/x-python",
      "name": "python",
      "nbconvert_exporter": "python",
      "pygments_lexer": "ipython3",
      "version": "3.8.12"
    },
    "colab": {
      "name": "LSTM.ipynb",
      "provenance": [],
      "collapsed_sections": []
    },
    "accelerator": "GPU"
  },
  "nbformat": 4,
  "nbformat_minor": 5
}